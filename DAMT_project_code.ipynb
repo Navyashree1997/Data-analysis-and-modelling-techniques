{
  "nbformat": 4,
  "nbformat_minor": 0,
  "metadata": {
    "interpreter": {
      "hash": "3d597f4c481aa0f25dceb95d2a0067e73c0966dcbd003d741d821a7208527ecf"
    },
    "kernelspec": {
      "display_name": "Python 3.9.5 64-bit ('base': conda)",
      "language": "python",
      "name": "python3"
    },
    "language_info": {
      "codemirror_mode": {
        "name": "ipython",
        "version": 3
      },
      "file_extension": ".py",
      "mimetype": "text/x-python",
      "name": "python",
      "nbconvert_exporter": "python",
      "pygments_lexer": "ipython3",
      "version": "3.9.5"
    },
    "orig_nbformat": 4,
    "colab": {
      "name": "DAMT project code.ipynb",
      "provenance": [],
      "collapsed_sections": []
    }
  },
  "cells": [
    {
      "cell_type": "code",
      "metadata": {
        "colab": {
          "base_uri": "https://localhost:8080/"
        },
        "id": "QGKc2yr_hnwy",
        "outputId": "8504d46e-653c-42da-f33d-88924a19cb10"
      },
      "source": [
        "from google.colab import drive\n",
        "drive.mount('/content/drive')"
      ],
      "execution_count": null,
      "outputs": [
        {
          "output_type": "stream",
          "name": "stdout",
          "text": [
            "Drive already mounted at /content/drive; to attempt to forcibly remount, call drive.mount(\"/content/drive\", force_remount=True).\n"
          ]
        }
      ]
    },
    {
      "cell_type": "code",
      "metadata": {
        "id": "XAe8RfRdhTO-"
      },
      "source": [
        "import pandas as pd;\n",
        "from collections import Counter\n",
        "import numpy as np\n",
        "import seaborn as sns\n",
        "import datetime\n",
        "import sklearn.cluster\n",
        "import matplotlib.pyplot as plt\n",
        "\n",
        "from sklearn.model_selection import train_test_split\n",
        "from sklearn.linear_model import LogisticRegression\n",
        "from sklearn.metrics import accuracy_score\n",
        "from sklearn.metrics import confusion_matrix\n",
        "\n",
        "df_cc = pd.read_csv('/content/drive/MyDrive/Colab Notebooks/ikea (1).csv')\n",
        "\n",
        "name = df_cc['name']\n",
        "uniq_names = Counter(name)\n"
      ],
      "execution_count": null,
      "outputs": []
    },
    {
      "cell_type": "code",
      "metadata": {
        "colab": {
          "base_uri": "https://localhost:8080/"
        },
        "id": "KLMkEPPphTPA",
        "outputId": "c0f2e2f2-2224-4d80-8f4b-3d752bf13ac5"
      },
      "source": [
        "frame_quality_type = df_cc['frame_quality_type'];\n",
        "strength = df_cc['strength'];\n",
        "flexibility = df_cc['flexibility'];\n",
        "for i in range(len(name)):\n",
        "  if (uniq_names[name[i]] <= 20):\n",
        "    df_cc['short_description'][i] = 2 # Local furniture\n",
        "  elif(uniq_names[name[i]] > 20 and uniq_names[name[i]] <= 50 ):\n",
        "    df_cc['short_description'][i] = 1 # Imported furniture\n",
        "  else:\n",
        "    df_cc['short_description'][i] = 0 # Branded furniture\n",
        "\n",
        "  if (frame_quality_type[i] < 30 or pd.isnull(frame_quality_type[i])):\n",
        "    df_cc['frame_quality_type'][i] = 0\n",
        "  elif (frame_quality_type[i] < 80 and frame_quality_type[i] >= 30):\n",
        "    df_cc['frame_quality_type'][i] = 1\n",
        "  else:\n",
        "    df_cc['frame_quality_type'][i] = 2\n",
        "  \n",
        "  if (strength[i] < 30 or pd.isnull(strength[i])):\n",
        "    df_cc['strength'][i] = 0\n",
        "  elif (strength[i] < 80 and strength[i] >= 30):\n",
        "    df_cc['strength'][i] = 1\n",
        "  else:\n",
        "    df_cc['strength'][i] = 2\n",
        "\n",
        "  if (flexibility[i] < 30 or pd.isnull(flexibility[i])):\n",
        "    df_cc['flexibility'][i] = 0\n",
        "  elif (flexibility[i] < 80 and flexibility[i] >= 30):\n",
        "    df_cc['flexibility'][i] = 1\n",
        "  else:\n",
        "    df_cc['flexibility'][i] = 2\n",
        "  \n",
        "  if (df_cc['other_colors'][i] == 'No'):\n",
        "    df_cc['other_colors'][i] = 0\n",
        "  else:\n",
        "    df_cc['other_colors'][i] = 1\n",
        "  \n",
        "  if (df_cc['usability_status'][i]):\n",
        "    df_cc['usability_status'][i] = 1\n",
        "  else:\n",
        "    df_cc['usability_status'][i] = 0\n",
        "\n"
      ],
      "execution_count": null,
      "outputs": [
        {
          "output_type": "stream",
          "name": "stderr",
          "text": [
            "/usr/local/lib/python3.7/dist-packages/ipykernel_launcher.py:6: SettingWithCopyWarning: \n",
            "A value is trying to be set on a copy of a slice from a DataFrame\n",
            "\n",
            "See the caveats in the documentation: https://pandas.pydata.org/pandas-docs/stable/user_guide/indexing.html#returning-a-view-versus-a-copy\n",
            "  \n",
            "/usr/local/lib/python3.7/dist-packages/ipykernel_launcher.py:13: SettingWithCopyWarning: \n",
            "A value is trying to be set on a copy of a slice from a DataFrame\n",
            "\n",
            "See the caveats in the documentation: https://pandas.pydata.org/pandas-docs/stable/user_guide/indexing.html#returning-a-view-versus-a-copy\n",
            "  del sys.path[0]\n",
            "/usr/local/lib/python3.7/dist-packages/ipykernel_launcher.py:24: SettingWithCopyWarning: \n",
            "A value is trying to be set on a copy of a slice from a DataFrame\n",
            "\n",
            "See the caveats in the documentation: https://pandas.pydata.org/pandas-docs/stable/user_guide/indexing.html#returning-a-view-versus-a-copy\n",
            "/usr/local/lib/python3.7/dist-packages/ipykernel_launcher.py:29: SettingWithCopyWarning: \n",
            "A value is trying to be set on a copy of a slice from a DataFrame\n",
            "\n",
            "See the caveats in the documentation: https://pandas.pydata.org/pandas-docs/stable/user_guide/indexing.html#returning-a-view-versus-a-copy\n",
            "/usr/local/lib/python3.7/dist-packages/ipykernel_launcher.py:34: SettingWithCopyWarning: \n",
            "A value is trying to be set on a copy of a slice from a DataFrame\n",
            "\n",
            "See the caveats in the documentation: https://pandas.pydata.org/pandas-docs/stable/user_guide/indexing.html#returning-a-view-versus-a-copy\n",
            "/usr/local/lib/python3.7/dist-packages/ipykernel_launcher.py:39: SettingWithCopyWarning: \n",
            "A value is trying to be set on a copy of a slice from a DataFrame\n",
            "\n",
            "See the caveats in the documentation: https://pandas.pydata.org/pandas-docs/stable/user_guide/indexing.html#returning-a-view-versus-a-copy\n",
            "/usr/local/lib/python3.7/dist-packages/ipykernel_launcher.py:31: SettingWithCopyWarning: \n",
            "A value is trying to be set on a copy of a slice from a DataFrame\n",
            "\n",
            "See the caveats in the documentation: https://pandas.pydata.org/pandas-docs/stable/user_guide/indexing.html#returning-a-view-versus-a-copy\n",
            "/usr/local/lib/python3.7/dist-packages/ipykernel_launcher.py:41: SettingWithCopyWarning: \n",
            "A value is trying to be set on a copy of a slice from a DataFrame\n",
            "\n",
            "See the caveats in the documentation: https://pandas.pydata.org/pandas-docs/stable/user_guide/indexing.html#returning-a-view-versus-a-copy\n",
            "/usr/local/lib/python3.7/dist-packages/ipykernel_launcher.py:20: SettingWithCopyWarning: \n",
            "A value is trying to be set on a copy of a slice from a DataFrame\n",
            "\n",
            "See the caveats in the documentation: https://pandas.pydata.org/pandas-docs/stable/user_guide/indexing.html#returning-a-view-versus-a-copy\n",
            "/usr/local/lib/python3.7/dist-packages/ipykernel_launcher.py:27: SettingWithCopyWarning: \n",
            "A value is trying to be set on a copy of a slice from a DataFrame\n",
            "\n",
            "See the caveats in the documentation: https://pandas.pydata.org/pandas-docs/stable/user_guide/indexing.html#returning-a-view-versus-a-copy\n",
            "/usr/local/lib/python3.7/dist-packages/ipykernel_launcher.py:15: SettingWithCopyWarning: \n",
            "A value is trying to be set on a copy of a slice from a DataFrame\n",
            "\n",
            "See the caveats in the documentation: https://pandas.pydata.org/pandas-docs/stable/user_guide/indexing.html#returning-a-view-versus-a-copy\n",
            "  from ipykernel import kernelapp as app\n",
            "/usr/local/lib/python3.7/dist-packages/ipykernel_launcher.py:36: SettingWithCopyWarning: \n",
            "A value is trying to be set on a copy of a slice from a DataFrame\n",
            "\n",
            "See the caveats in the documentation: https://pandas.pydata.org/pandas-docs/stable/user_guide/indexing.html#returning-a-view-versus-a-copy\n",
            "/usr/local/lib/python3.7/dist-packages/ipykernel_launcher.py:22: SettingWithCopyWarning: \n",
            "A value is trying to be set on a copy of a slice from a DataFrame\n",
            "\n",
            "See the caveats in the documentation: https://pandas.pydata.org/pandas-docs/stable/user_guide/indexing.html#returning-a-view-versus-a-copy\n",
            "/usr/local/lib/python3.7/dist-packages/ipykernel_launcher.py:8: SettingWithCopyWarning: \n",
            "A value is trying to be set on a copy of a slice from a DataFrame\n",
            "\n",
            "See the caveats in the documentation: https://pandas.pydata.org/pandas-docs/stable/user_guide/indexing.html#returning-a-view-versus-a-copy\n",
            "  \n",
            "/usr/local/lib/python3.7/dist-packages/ipykernel_launcher.py:10: SettingWithCopyWarning: \n",
            "A value is trying to be set on a copy of a slice from a DataFrame\n",
            "\n",
            "See the caveats in the documentation: https://pandas.pydata.org/pandas-docs/stable/user_guide/indexing.html#returning-a-view-versus-a-copy\n",
            "  # Remove the CWD from sys.path while we load stuff.\n",
            "/usr/local/lib/python3.7/dist-packages/ipykernel_launcher.py:17: SettingWithCopyWarning: \n",
            "A value is trying to be set on a copy of a slice from a DataFrame\n",
            "\n",
            "See the caveats in the documentation: https://pandas.pydata.org/pandas-docs/stable/user_guide/indexing.html#returning-a-view-versus-a-copy\n"
          ]
        }
      ]
    },
    {
      "cell_type": "code",
      "metadata": {
        "id": "K2nxLiebhTPB"
      },
      "source": [
        "df_cc = df_cc.drop(columns=['item_id', 'name', 'category'])\n"
      ],
      "execution_count": null,
      "outputs": []
    },
    {
      "cell_type": "code",
      "metadata": {
        "colab": {
          "base_uri": "https://localhost:8080/"
        },
        "id": "jtYY2ZKEhTPC",
        "outputId": "2af23ac3-33c1-40dd-f8f7-790046f37e52"
      },
      "source": [
        "df_cc.shape\n"
      ],
      "execution_count": null,
      "outputs": [
        {
          "output_type": "execute_result",
          "data": {
            "text/plain": [
              "(3694, 7)"
            ]
          },
          "metadata": {},
          "execution_count": 8
        }
      ]
    },
    {
      "cell_type": "code",
      "metadata": {
        "colab": {
          "base_uri": "https://localhost:8080/"
        },
        "id": "z8-P0JBfhTPC",
        "outputId": "bc96a9f3-887f-400d-b87a-9bad37d603c9"
      },
      "source": [
        "df_cc['usability_status'] = df_cc['usability_status'].apply(np.float64)\n",
        "df_cc['short_description'] = df_cc['short_description'].apply(np.float64)\n",
        "df_cc['other_colors'] = df_cc['other_colors'].apply(np.float64)\n",
        "df_cc.info()"
      ],
      "execution_count": null,
      "outputs": [
        {
          "output_type": "stream",
          "name": "stdout",
          "text": [
            "<class 'pandas.core.frame.DataFrame'>\n",
            "RangeIndex: 3694 entries, 0 to 3693\n",
            "Data columns (total 7 columns):\n",
            " #   Column              Non-Null Count  Dtype  \n",
            "---  ------              --------------  -----  \n",
            " 0   price               3694 non-null   float64\n",
            " 1   other_colors        3694 non-null   float64\n",
            " 2   short_description   3694 non-null   float64\n",
            " 3   frame_quality_type  3694 non-null   float64\n",
            " 4   strength            3694 non-null   float64\n",
            " 5   flexibility         3694 non-null   float64\n",
            " 6   usability_status    3694 non-null   float64\n",
            "dtypes: float64(7)\n",
            "memory usage: 202.1 KB\n"
          ]
        }
      ]
    },
    {
      "cell_type": "code",
      "metadata": {
        "colab": {
          "base_uri": "https://localhost:8080/",
          "height": 300
        },
        "id": "0D2-u5MYhTPD",
        "outputId": "ea94be50-082e-4b77-b768-b109e933ff52"
      },
      "source": [
        "df_cc.describe()"
      ],
      "execution_count": null,
      "outputs": [
        {
          "output_type": "execute_result",
          "data": {
            "text/html": [
              "<div>\n",
              "<style scoped>\n",
              "    .dataframe tbody tr th:only-of-type {\n",
              "        vertical-align: middle;\n",
              "    }\n",
              "\n",
              "    .dataframe tbody tr th {\n",
              "        vertical-align: top;\n",
              "    }\n",
              "\n",
              "    .dataframe thead th {\n",
              "        text-align: right;\n",
              "    }\n",
              "</style>\n",
              "<table border=\"1\" class=\"dataframe\">\n",
              "  <thead>\n",
              "    <tr style=\"text-align: right;\">\n",
              "      <th></th>\n",
              "      <th>price</th>\n",
              "      <th>other_colors</th>\n",
              "      <th>short_description</th>\n",
              "      <th>frame_quality_type</th>\n",
              "      <th>strength</th>\n",
              "      <th>flexibility</th>\n",
              "      <th>usability_status</th>\n",
              "    </tr>\n",
              "  </thead>\n",
              "  <tbody>\n",
              "    <tr>\n",
              "      <th>count</th>\n",
              "      <td>3694.000000</td>\n",
              "      <td>3694.000000</td>\n",
              "      <td>3694.000000</td>\n",
              "      <td>3694.000000</td>\n",
              "      <td>3694.000000</td>\n",
              "      <td>3694.000000</td>\n",
              "      <td>3694.000000</td>\n",
              "    </tr>\n",
              "    <tr>\n",
              "      <th>mean</th>\n",
              "      <td>1078.208419</td>\n",
              "      <td>0.409312</td>\n",
              "      <td>1.308609</td>\n",
              "      <td>0.649161</td>\n",
              "      <td>1.079589</td>\n",
              "      <td>1.243097</td>\n",
              "      <td>0.992420</td>\n",
              "    </tr>\n",
              "    <tr>\n",
              "      <th>std</th>\n",
              "      <td>1374.652494</td>\n",
              "      <td>0.491774</td>\n",
              "      <td>0.809868</td>\n",
              "      <td>0.649796</td>\n",
              "      <td>0.833336</td>\n",
              "      <td>0.755466</td>\n",
              "      <td>0.086744</td>\n",
              "    </tr>\n",
              "    <tr>\n",
              "      <th>min</th>\n",
              "      <td>3.000000</td>\n",
              "      <td>0.000000</td>\n",
              "      <td>0.000000</td>\n",
              "      <td>0.000000</td>\n",
              "      <td>0.000000</td>\n",
              "      <td>0.000000</td>\n",
              "      <td>0.000000</td>\n",
              "    </tr>\n",
              "    <tr>\n",
              "      <th>25%</th>\n",
              "      <td>180.900000</td>\n",
              "      <td>0.000000</td>\n",
              "      <td>1.000000</td>\n",
              "      <td>0.000000</td>\n",
              "      <td>0.000000</td>\n",
              "      <td>1.000000</td>\n",
              "      <td>1.000000</td>\n",
              "    </tr>\n",
              "    <tr>\n",
              "      <th>50%</th>\n",
              "      <td>544.700000</td>\n",
              "      <td>0.000000</td>\n",
              "      <td>2.000000</td>\n",
              "      <td>1.000000</td>\n",
              "      <td>1.000000</td>\n",
              "      <td>1.000000</td>\n",
              "      <td>1.000000</td>\n",
              "    </tr>\n",
              "    <tr>\n",
              "      <th>75%</th>\n",
              "      <td>1429.500000</td>\n",
              "      <td>1.000000</td>\n",
              "      <td>2.000000</td>\n",
              "      <td>1.000000</td>\n",
              "      <td>2.000000</td>\n",
              "      <td>2.000000</td>\n",
              "      <td>1.000000</td>\n",
              "    </tr>\n",
              "    <tr>\n",
              "      <th>max</th>\n",
              "      <td>9585.000000</td>\n",
              "      <td>1.000000</td>\n",
              "      <td>2.000000</td>\n",
              "      <td>2.000000</td>\n",
              "      <td>2.000000</td>\n",
              "      <td>2.000000</td>\n",
              "      <td>1.000000</td>\n",
              "    </tr>\n",
              "  </tbody>\n",
              "</table>\n",
              "</div>"
            ],
            "text/plain": [
              "             price  other_colors  ...  flexibility  usability_status\n",
              "count  3694.000000   3694.000000  ...  3694.000000       3694.000000\n",
              "mean   1078.208419      0.409312  ...     1.243097          0.992420\n",
              "std    1374.652494      0.491774  ...     0.755466          0.086744\n",
              "min       3.000000      0.000000  ...     0.000000          0.000000\n",
              "25%     180.900000      0.000000  ...     1.000000          1.000000\n",
              "50%     544.700000      0.000000  ...     1.000000          1.000000\n",
              "75%    1429.500000      1.000000  ...     2.000000          1.000000\n",
              "max    9585.000000      1.000000  ...     2.000000          1.000000\n",
              "\n",
              "[8 rows x 7 columns]"
            ]
          },
          "metadata": {},
          "execution_count": 10
        }
      ]
    },
    {
      "cell_type": "code",
      "metadata": {
        "colab": {
          "base_uri": "https://localhost:8080/",
          "height": 352
        },
        "id": "lQZb3PmkhTPE",
        "outputId": "739a4b8c-6caf-4005-d421-b86f75013afb"
      },
      "source": [
        "sns.countplot('short_description', data=df_cc)"
      ],
      "execution_count": null,
      "outputs": [
        {
          "output_type": "stream",
          "name": "stderr",
          "text": [
            "/usr/local/lib/python3.7/dist-packages/seaborn/_decorators.py:43: FutureWarning: Pass the following variable as a keyword arg: x. From version 0.12, the only valid positional argument will be `data`, and passing other arguments without an explicit keyword will result in an error or misinterpretation.\n",
            "  FutureWarning\n"
          ]
        },
        {
          "output_type": "execute_result",
          "data": {
            "text/plain": [
              "<matplotlib.axes._subplots.AxesSubplot at 0x7f67ce048710>"
            ]
          },
          "metadata": {},
          "execution_count": 11
        },
        {
          "output_type": "display_data",
          "data": {
            "image/png": "[encoded data removed]",
            "text/plain": [
              "<Figure size 432x288 with 1 Axes>"
            ]
          },
          "metadata": {
            "needs_background": "light"
          }
        }
      ]
    },
    {
      "cell_type": "code",
      "metadata": {
        "colab": {
          "base_uri": "https://localhost:8080/",
          "height": 297
        },
        "id": "HyagTGKthTPE",
        "outputId": "9ad42c82-7dc7-4773-c86a-69cdb8984650"
      },
      "source": [
        "sns.barplot(y='price', x='short_description', data=df_cc)"
      ],
      "execution_count": null,
      "outputs": [
        {
          "output_type": "execute_result",
          "data": {
            "text/plain": [
              "<matplotlib.axes._subplots.AxesSubplot at 0x7f67cdf27650>"
            ]
          },
          "metadata": {},
          "execution_count": 12
        },
        {
          "output_type": "display_data",
          "data": {
            "image/png": "[encoded data removed]",
            "text/plain": [
              "<Figure size 432x288 with 1 Axes>"
            ]
          },
          "metadata": {
            "needs_background": "light"
          }
        }
      ]
    },
    {
      "cell_type": "code",
      "metadata": {
        "colab": {
          "base_uri": "https://localhost:8080/",
          "height": 483
        },
        "id": "7vg7UJpBhTPF",
        "outputId": "50c8120d-f1fb-4297-b343-5ce8af6a5324"
      },
      "source": [
        "measure = ['frame_quality_type',  'strength', 'flexibility']\n",
        "\n",
        "fig, ax = plt.subplots(nrows = 3, figsize=[6,8])\n",
        "for index, measure in enumerate(measure):\n",
        "  sns.scatterplot(data=df_cc, x='price', y=measure, ax=ax[index])\n",
        "  ax[index].set_ylabel(measure)\n",
        "  ax[index].set_xlabel('')"
      ],
      "execution_count": null,
      "outputs": [
        {
          "output_type": "display_data",
          "data": {
            "image/png": "[encoded data removed]",
            "text/plain": [
              "<Figure size 432x576 with 3 Axes>"
            ]
          },
          "metadata": {
            "needs_background": "light"
          }
        }
      ]
    },
    {
      "cell_type": "code",
      "metadata": {
        "id": "y0QAK2vUhTPF"
      },
      "source": [
        ""
      ],
      "execution_count": null,
      "outputs": []
    },
    {
      "cell_type": "code",
      "metadata": {
        "id": "RVWh50iMhTPF"
      },
      "source": [
        ""
      ],
      "execution_count": null,
      "outputs": []
    },
    {
      "cell_type": "markdown",
      "metadata": {
        "id": "3WF28ZtAa221"
      },
      "source": [
        "Logistic Regression"
      ]
    },
    {
      "cell_type": "code",
      "metadata": {
        "colab": {
          "base_uri": "https://localhost:8080/"
        },
        "id": "6MF4VjSghTPG",
        "outputId": "8ddb516a-6cee-4c07-95a2-4dfa35b26ab1"
      },
      "source": [
        "import keras\n",
        "from keras.callbacks import EarlyStopping\n",
        "\n",
        "y=df_cc['usability_status']\n",
        "x=df_cc.drop(columns='usability_status')\n",
        "\n",
        "x_train,x_test,y_train,y_test=train_test_split(x,y,test_size=0.35)\n",
        "logisticRegr1 = LogisticRegression(class_weight=\"balanced\")\n",
        "#es_callback = keras.callbacks.EarlyStopping(monitor='val_loss', patience=3)\n",
        "\n",
        "logisticRegr1.fit(x_train, y_train)\n",
        "THRESHOLD=0.50\n",
        "\n",
        "predictions1 = np.where(logisticRegr1.predict_proba(x_test)[:,1] > THRESHOLD, 1, 0)\n",
        "\n",
        "print(accuracy_score(y_test,predictions1))"
      ],
      "execution_count": null,
      "outputs": [
        {
          "output_type": "stream",
          "name": "stdout",
          "text": [
            "0.6473317865429234\n"
          ]
        },
        {
          "output_type": "stream",
          "name": "stderr",
          "text": [
            "/usr/local/lib/python3.7/dist-packages/sklearn/linear_model/_logistic.py:818: ConvergenceWarning: lbfgs failed to converge (status=1):\n",
            "STOP: TOTAL NO. of ITERATIONS REACHED LIMIT.\n",
            "\n",
            "Increase the number of iterations (max_iter) or scale the data as shown in:\n",
            "    https://scikit-learn.org/stable/modules/preprocessing.html\n",
            "Please also refer to the documentation for alternative solver options:\n",
            "    https://scikit-learn.org/stable/modules/linear_model.html#logistic-regression\n",
            "  extra_warning_msg=_LOGISTIC_SOLVER_CONVERGENCE_MSG,\n"
          ]
        }
      ]
    },
    {
      "cell_type": "markdown",
      "metadata": {
        "id": "PLN2gaGAa757"
      },
      "source": [
        ""
      ]
    },
    {
      "cell_type": "code",
      "metadata": {
        "colab": {
          "base_uri": "https://localhost:8080/"
        },
        "id": "9u2mT_yNhWCO",
        "outputId": "514e89c8-9644-4796-c7c6-633dfb2d83af"
      },
      "source": [
        "from sklearn.metrics import confusion_matrix\n",
        "confusion_matrix = confusion_matrix(y_test, predictions1)\n",
        "print(confusion_matrix)\n"
      ],
      "execution_count": null,
      "outputs": [
        {
          "output_type": "stream",
          "name": "stdout",
          "text": [
            "[[  4   5]\n",
            " [451 833]]\n"
          ]
        }
      ]
    },
    {
      "cell_type": "markdown",
      "metadata": {
        "id": "VsZjzV7ha_lx"
      },
      "source": [
        "checking all computed attributes"
      ]
    },
    {
      "cell_type": "code",
      "metadata": {
        "id": "ooLLgMmhmG3b",
        "colab": {
          "base_uri": "https://localhost:8080/"
        },
        "outputId": "46e912cb-fc54-4f25-eb01-3359e4b5dfda"
      },
      "source": [
        "print(df_cc['usability_status'])\n",
        "print(y_test)\n",
        "print(predictions1)"
      ],
      "execution_count": null,
      "outputs": [
        {
          "output_type": "stream",
          "name": "stdout",
          "text": [
            "0       1.0\n",
            "1       0.0\n",
            "2       0.0\n",
            "3       1.0\n",
            "4       1.0\n",
            "       ... \n",
            "3689    1.0\n",
            "3690    1.0\n",
            "3691    1.0\n",
            "3692    1.0\n",
            "3693    1.0\n",
            "Name: usability_status, Length: 3694, dtype: float64\n",
            "81      1.0\n",
            "220     1.0\n",
            "2668    1.0\n",
            "324     1.0\n",
            "1159    1.0\n",
            "       ... \n",
            "665     1.0\n",
            "946     1.0\n",
            "897     1.0\n",
            "1302    1.0\n",
            "1890    1.0\n",
            "Name: usability_status, Length: 1293, dtype: float64\n",
            "[1 1 0 ... 0 1 1]\n"
          ]
        }
      ]
    },
    {
      "cell_type": "code",
      "metadata": {
        "colab": {
          "base_uri": "https://localhost:8080/"
        },
        "id": "h4wFTntYXfvs",
        "outputId": "07ca01fb-b81c-4b73-de69-7ecbb346307c"
      },
      "source": [
        "check_y_test = Counter(y_test)\n",
        "print(check_y_test)"
      ],
      "execution_count": null,
      "outputs": [
        {
          "output_type": "stream",
          "name": "stdout",
          "text": [
            "Counter({1.0: 1284, 0.0: 9})\n"
          ]
        }
      ]
    },
    {
      "cell_type": "code",
      "metadata": {
        "colab": {
          "base_uri": "https://localhost:8080/"
        },
        "id": "bfZmOZ-UXorn",
        "outputId": "cf608e7e-9856-4ccb-dbd6-4175d5aaf916"
      },
      "source": [
        "pred = Counter(predictions1)\n",
        "print(pred)"
      ],
      "execution_count": null,
      "outputs": [
        {
          "output_type": "stream",
          "name": "stdout",
          "text": [
            "Counter({1: 838, 0: 455})\n"
          ]
        }
      ]
    },
    {
      "cell_type": "code",
      "metadata": {
        "colab": {
          "base_uri": "https://localhost:8080/"
        },
        "id": "tbhBukYgXzHQ",
        "outputId": "20ef02ba-778b-4e8c-f569-04c61c3076ad"
      },
      "source": [
        "a = df_cc['usability_status']\n",
        "unique_names = Counter(a)\n",
        "print(unique_names)"
      ],
      "execution_count": null,
      "outputs": [
        {
          "output_type": "stream",
          "name": "stdout",
          "text": [
            "Counter({1.0: 3666, 0.0: 28})\n"
          ]
        }
      ]
    },
    {
      "cell_type": "markdown",
      "metadata": {
        "id": "jhwiLueFbvJg"
      },
      "source": [
        "Confusion Matrix"
      ]
    },
    {
      "cell_type": "code",
      "metadata": {
        "colab": {
          "base_uri": "https://localhost:8080/",
          "height": 351
        },
        "id": "JqEvBW1iX4H_",
        "outputId": "ac194bc3-00d6-4810-8267-f827eefefd0d"
      },
      "source": [
        "from sklearn.metrics import plot_confusion_matrix\n",
        "plot_confusion_matrix(logisticRegr1, x_test, y_test)"
      ],
      "execution_count": null,
      "outputs": [
        {
          "output_type": "stream",
          "name": "stderr",
          "text": [
            "/usr/local/lib/python3.7/dist-packages/sklearn/utils/deprecation.py:87: FutureWarning: Function plot_confusion_matrix is deprecated; Function `plot_confusion_matrix` is deprecated in 1.0 and will be removed in 1.2. Use one of the class methods: ConfusionMatrixDisplay.from_predictions or ConfusionMatrixDisplay.from_estimator.\n",
            "  warnings.warn(msg, category=FutureWarning)\n"
          ]
        },
        {
          "output_type": "execute_result",
          "data": {
            "text/plain": [
              "<sklearn.metrics._plot.confusion_matrix.ConfusionMatrixDisplay at 0x7f67d540c850>"
            ]
          },
          "metadata": {},
          "execution_count": 20
        },
        {
          "output_type": "display_data",
          "data": {
            "image/png": "[encoded data removed]",
            "text/plain": [
              "<Figure size 432x288 with 2 Axes>"
            ]
          },
          "metadata": {
            "needs_background": "light"
          }
        }
      ]
    },
    {
      "cell_type": "markdown",
      "metadata": {
        "id": "B4mXj5V3au31"
      },
      "source": [
        "Linear Regression\n"
      ]
    },
    {
      "cell_type": "code",
      "metadata": {
        "colab": {
          "base_uri": "https://localhost:8080/"
        },
        "id": "cDb5eAfnX8rS",
        "outputId": "2e9b6d86-a360-4f29-fc86-2de3a9638fa3"
      },
      "source": [
        "from sklearn.linear_model import LinearRegression\n",
        "reg = LinearRegression()      \n",
        "reg.fit(x_train, y_train)\n",
        "\n",
        "#linearpred = np.where(reg.predict_proba(x_test)[:,1] > THRESHOLD, 1, 0)\n",
        "linearpred=reg.predict(x_test)\n",
        "print(accuracy_score(y_test,predictions1))"
      ],
      "execution_count": null,
      "outputs": [
        {
          "output_type": "stream",
          "name": "stdout",
          "text": [
            "0.6473317865429234\n"
          ]
        }
      ]
    }
  ]
}